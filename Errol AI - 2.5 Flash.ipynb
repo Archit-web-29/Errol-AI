{
 "cells": [
  {
   "cell_type": "code",
   "execution_count": null,
   "id": "53054e9a",
   "metadata": {},
   "outputs": [
    {
     "name": "stdout",
     "output_type": "stream",
     "text": [
      "\u001b[31m---------- Errol AI - 2.5 Flash ----------\u001b[39m\n",
      "\n",
      "You: hi\n",
      "\u001b[32mErrol AI:\u001b[39m Hello!\n",
      "\n",
      "-------------------------------------------------------------------------------------------------------------------\n",
      "You: who are you?\n",
      "\u001b[32mErrol AI:\u001b[39m I am Errol AI - 2.5 Flash.\n",
      "\n",
      "-------------------------------------------------------------------------------------------------------------------\n",
      "You: how many r is there in the word strawberry\n",
      "\u001b[32mErrol AI:\u001b[39m There are three 'r's in \"strawberry\".\n",
      "\n",
      "-------------------------------------------------------------------------------------------------------------------\n"
     ]
    }
   ],
   "source": [
    "# pip install google-generativeai colorama\n",
    "import google.generativeai as genai\n",
    "from colorama import Fore\n",
    "import sys\n",
    "\n",
    "# ⚠️ Hard-coded API key (do NOT commit this)\n",
    "GEMINI_API_KEY = \"###########\"\n",
    "genai.configure(api_key=GEMINI_API_KEY)\n",
    "\n",
    "MODEL_NAME = \"gemini-2.5-flash\"  # try \"gemini-1.5-pro\" for more capability\n",
    "\n",
    "SYSTEM_PROMPT = (\n",
    "    \"You are a helpful, concise assistant. \"\n",
    "    \"Prefer short, clear answers. If unsure, say so.\"\n",
    "    \"You are Errol AI - 2.5 Flash\"\n",
    ")\n",
    "\n",
    "def main():\n",
    "    print(f\"{Fore.RED}---------- Errol AI - 2.5 Flash ----------{Fore.RESET}\")\n",
    "    print()\n",
    "    model = genai.GenerativeModel(\n",
    "        MODEL_NAME,\n",
    "        system_instruction=SYSTEM_PROMPT\n",
    "    )\n",
    "    chat = model.start_chat(history=[])\n",
    "\n",
    "    while True:\n",
    "        try:\n",
    "            user = input(f\"{Fore.BLUE}You:{Fore.RESET} \").strip()\n",
    "        except EOFError:\n",
    "            print()\n",
    "            break\n",
    "        if not user:\n",
    "            continue\n",
    "        if user.lower() in {\"exit\", \"quit\", \"bye\"}:\n",
    "            print(\"Bye!\")\n",
    "            break\n",
    "\n",
    "        try:\n",
    "            resp = chat.send_message(user)  # stream=True for streaming chunks\n",
    "            print(f\"{Fore.GREEN}Errol AI:{Fore.RESET} {resp.text}\\n\")\n",
    "            print(\"-\"*115)\n",
    "        except Exception as e:\n",
    "            print(f\"❌ Error: {e}\")\n",
    "\n",
    "if __name__ == \"__main__\":\n",
    "    try:\n",
    "        main()\n",
    "    except KeyboardInterrupt:\n",
    "        print(\"\\nBye!\")\n",
    "        sys.exit(0)\n"
   ]
  },
  {
   "cell_type": "code",
   "execution_count": null,
   "id": "1197856f",
   "metadata": {},
   "outputs": [],
   "source": []
  }
 ],
 "metadata": {
  "kernelspec": {
   "display_name": "Python 3 (ipykernel)",
   "language": "python",
   "name": "python3"
  },
  "language_info": {
   "codemirror_mode": {
    "name": "ipython",
    "version": 3
   },
   "file_extension": ".py",
   "mimetype": "text/x-python",
   "name": "python",
   "nbconvert_exporter": "python",
   "pygments_lexer": "ipython3",
   "version": "3.12.4"
  }
 },
 "nbformat": 4,
 "nbformat_minor": 5
}
